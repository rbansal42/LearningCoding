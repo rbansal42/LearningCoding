{
 "cells": [
  {
   "cell_type": "code",
   "execution_count": 2,
   "id": "8f6b3390",
   "metadata": {},
   "outputs": [],
   "source": [
    "# Define a function max() that takes two numbers as arguments and returns the largest of them. \n",
    "# Use the if-then-else construct available in Python. \n",
    "# (It is true that Python has the max() function built in, but writing it yourself is nevertheless a good exercise.)"
   ]
  },
  {
   "cell_type": "code",
   "execution_count": 3,
   "id": "96beee69",
   "metadata": {},
   "outputs": [
    {
     "name": "stdout",
     "output_type": "stream",
     "text": [
      "Enter number a: 2\n",
      "Enter number b: 3\n",
      "3\n"
     ]
    }
   ],
   "source": [
    "a = input(\"Enter number a: \")\n",
    "b = input(\"Enter number b: \")\n",
    "\n",
    "\n",
    "def max1(a, b):\n",
    "\n",
    "    if(a == b):\n",
    "        return\n",
    "    \n",
    "    elif(a > b):\n",
    "        return a\n",
    "    \n",
    "    elif(a < b):\n",
    "        return b\n",
    "\n",
    "\n",
    "print(max1(a, b))"
   ]
  },
  {
   "cell_type": "code",
   "execution_count": null,
   "id": "fb8b2c8a",
   "metadata": {},
   "outputs": [],
   "source": []
  }
 ],
 "metadata": {
  "kernelspec": {
   "display_name": "Python 3 (ipykernel)",
   "language": "python",
   "name": "python3"
  },
  "language_info": {
   "codemirror_mode": {
    "name": "ipython",
    "version": 3
   },
   "file_extension": ".py",
   "mimetype": "text/x-python",
   "name": "python",
   "nbconvert_exporter": "python",
   "pygments_lexer": "ipython3",
   "version": "3.7.0"
  }
 },
 "nbformat": 4,
 "nbformat_minor": 5
}
