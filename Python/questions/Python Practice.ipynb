{
 "cells": [
  {
   "cell_type": "markdown",
   "metadata": {},
   "source": [
    "### Question 1\n",
    "Define a function max() that takes two numbers as arguments and returns the largest of them. \n",
    "Use the if-then-else construct available in Python. \n",
    "(It is true that Python has the max() function built in, but writing it yourself is nevertheless a good exercise.)"
   ]
  },
  {
   "cell_type": "code",
   "execution_count": null,
   "metadata": {},
   "outputs": [],
   "source": [
    "a = input(\"Enter number a: \")\n",
    "b = input(\"Enter number b: \")\n",
    "\n",
    "def max1(a, b):\n",
    "\n",
    "    if(a == b):\n",
    "        return\n",
    "    \n",
    "    elif(a > b):\n",
    "        return a\n",
    "    \n",
    "    elif(a < b):\n",
    "        return b\n",
    "\n",
    "\n",
    "print(max1(a, b))"
   ]
  },
  {
   "cell_type": "markdown",
   "metadata": {},
   "source": [
    "### Question 2\n",
    "Define a function max_of_three() that takes three numbers as arguments and returns the largest of them."
   ]
  },
  {
   "cell_type": "code",
   "execution_count": null,
   "metadata": {},
   "outputs": [],
   "source": [
    "def max_of_three(a,b,c):\n",
    "    if(a == b):\n",
    "\n",
    "        if(a > c):\n",
    "            return a\n",
    "        else:\n",
    "            return c\n",
    "\n",
    "    \n",
    "    elif(b==c):\n",
    "\n",
    "        if(a>b):\n",
    "            return a\n",
    "        else:\n",
    "            return b\n",
    "\n",
    "    elif(a == c):\n",
    "\n",
    "        if(a>b):\n",
    "            return a\n",
    "        else:\n",
    "            return b\n",
    "\n",
    "    elif(a>b and a>c):\n",
    "        return a\n",
    "    elif(b>a and b>c):\n",
    "        return b\n",
    "    elif(c>a and c>b):\n",
    "        return c\n",
    "\n",
    "\n",
    "a = input(\"Enter input a: \")\n",
    "b = input(\"Enter input b: \")\n",
    "c = input(\"Enter input c: \")\n",
    "\n",
    "print(max_of_three(a, b, c))"
   ]
  },
  {
   "cell_type": "markdown",
   "metadata": {},
   "source": [
    "### Question 3\n",
    "Define a function that computes the length of a given list or string. \n",
    "(It is true that Python has the len() function built in, but writing it yourself is nevertheless a good exercise.)"
   ]
  },
  {
   "cell_type": "code",
   "execution_count": null,
   "metadata": {},
   "outputs": [],
   "source": [
    "def len_of_string(a):\n",
    "    \n",
    "    len = 0\n",
    "\n",
    "    for i in a:\n",
    "        len += 1\n",
    "    return len\n",
    "\n",
    "\n",
    "s = input(\"Input String: \")\n",
    "\n",
    "print(len_of_string(s))"
   ]
  },
  {
   "cell_type": "markdown",
   "metadata": {},
   "source": [
    "### Question 4\n",
    "Write a function that takes a character (i.e. a string of length 1) and returns True if it is a vowel, False otherwise."
   ]
  },
  {
   "cell_type": "code",
   "execution_count": null,
   "metadata": {},
   "outputs": [],
   "source": [
    "def is_vowel(a):\n",
    "    \n",
    "    if(a == 'a' or a == 'e' or a == 'i' or a == 'o' or a == 'u'):\n",
    "        return True\n",
    "    \n",
    "    else:\n",
    "        return False\n",
    "\n",
    "a = input(\"Enter a single character: \")\n",
    "\n",
    "print(is_vowel(a[0]))"
   ]
  },
  {
   "cell_type": "markdown",
   "metadata": {},
   "source": [
    "### Question 5\n",
    "Write a function translate() that will translate a text into \"rövarspråket\" (Swedish for \"robber's language\"). \n",
    "That is, double every consonant and place an occurrence of \"o\" in between. \n",
    "For example, translate(\"this is fun\") should return the string \"tothohisos isos fofunon\"."
   ]
  },
  {
   "cell_type": "code",
   "execution_count": null,
   "metadata": {},
   "outputs": [],
   "source": [
    "def rob(s):\n",
    "    s = s\n",
    "    robbed = ''\n",
    "    index = 0\n",
    "    for i in s:\n",
    "        if s[index] == 'a' or s[index] == 'e' or s[index] == 'i' or s[index] == 'o' or s[index] == 'u':\n",
    "            robbed = robbed + s[index]\n",
    "            index += 1\n",
    "        else:\n",
    "            robbed = robbed + s[index] + 'o' + s[index]\n",
    "            index += 1\n",
    "\n",
    "    return robbed\n",
    "\n",
    "\n",
    "string = input(\"Input the string to be robbed: \")\n",
    "\n",
    "print(rob(string))\n"
   ]
  },
  {
   "cell_type": "markdown",
   "metadata": {},
   "source": [
    "### Question 6\n",
    "Define a function sum() and a function multiply() that sums and multiplies (respectively) all the numbers in a list of numbers. \n",
    "For example, sum([1, 2, 3, 4]) should return 10, and multiply([1, 2, 3, 4]) should return 24."
   ]
  },
  {
   "cell_type": "code",
   "execution_count": null,
   "metadata": {},
   "outputs": [],
   "source": [
    "def sum1(elements):\n",
    "    total = 0\n",
    "\n",
    "    for i in range(len(elements)):\n",
    "        total = total + elements[i]\n",
    "\n",
    "    return total\n",
    "\n",
    "\n",
    "def multiply1(elements):\n",
    "    total = 1\n",
    "\n",
    "    for i in range(len(elements)):\n",
    "        total = total * elements[i]\n",
    "\n",
    "    return total\n",
    "\n",
    "\n",
    "s = [1, 2, 3, 4, 5]\n",
    "print(sum1(s))\n",
    "print(multiply1(s))"
   ]
  },
  {
   "cell_type": "markdown",
   "metadata": {},
   "source": [
    "### Question 7\n",
    "Define a function reverse() that computes the reversal of a string. \n",
    "For example, reverse(\"I am testing\") should return the string \"gnitset ma I\"."
   ]
  },
  {
   "cell_type": "code",
   "execution_count": null,
   "metadata": {},
   "outputs": [],
   "source": [
    "def reverse(str):\n",
    "    \n",
    "    str_reverse = ''\n",
    "    j = len(str) - 1\n",
    "    for i in range(len(str)):\n",
    "        str_reverse += str[j]\n",
    "        j -= 1\n",
    "    return str_reverse\n",
    "\n",
    "str = input(\"Input a String: \")\n",
    "\n",
    "print(reverse(str))"
   ]
  },
  {
   "cell_type": "markdown",
   "metadata": {},
   "source": [
    "### Question 8\n",
    "Define a function is_palindrome() that recognizes palindromes (i.e. words that look the same written backwards).\n",
    "For example, is_palindrome(\"radar\") should return True."
   ]
  },
  {
   "cell_type": "code",
   "execution_count": null,
   "metadata": {},
   "outputs": [],
   "source": [
    "def is_palindrome(str):\n",
    "    \n",
    "    j = len(str) - 1\n",
    "    for i in range(len(str)):\n",
    "\n",
    "        if(str[i] != str[j]):\n",
    "            return False\n",
    "        else:\n",
    "            return True\n",
    "\n",
    "        j -= 1\n",
    "\n",
    "\n",
    "str = input(\"Input a String: \")\n",
    "\n",
    "print(is_palindrome(str))"
   ]
  },
  {
   "cell_type": "markdown",
   "metadata": {},
   "source": [
    "### Question 9\n",
    "Write a function is_member() that takes a value (i.e. a number, string, etc) x and a list of values a, and returns True if x is a member of a, False otherwise.\n",
    "(Note that this is exactly what the in operator does, but for the sake of the exercise you should pretend Python did not have this operator.)\n"
   ]
  },
  {
   "cell_type": "code",
   "execution_count": null,
   "metadata": {},
   "outputs": [],
   "source": [
    "def is_member(list, x):\n",
    "    \n",
    "    query = False\n",
    "    \n",
    "    for i in range(len(list)):\n",
    "\n",
    "        if list[i] == x:\n",
    "            query = True\n",
    "            break\n",
    "        else:\n",
    "            query = False\n",
    "            \n",
    "    return query\n",
    "\n",
    "list = [\"a\", \"b\", \"c\", \"d\", \"e\", \"f\", \"g\", \"h\", \"i\", 'j', 'k', 'l', 'o', 'm', 'n', 'o', 'p', 'q', 'r', 's', 't', 'u',\n",
    "        'v', 'w', 'x', 'y']\n",
    "\n",
    "x = input(\"Enter the value to search: \")\n",
    "print(is_member(list, x))"
   ]
  },
  {
   "cell_type": "markdown",
   "metadata": {},
   "source": [
    "***Why doesn't this work??***"
   ]
  },
  {
   "cell_type": "code",
   "execution_count": null,
   "metadata": {},
   "outputs": [],
   "source": [
    "def is_member(list, x):\r\n",
    "    \r\n",
    "    \r\n",
    "    for i in range(len(list)):\r\n",
    "\r\n",
    "        if list[i] == x:\r\n",
    "            return True\r\n",
    "        \r\n",
    "    return False\r\n",
    "            \r\n",
    "\r\n",
    "list = [\"a\", \"b\", \"c\", \"d\", \"e\", \"f\", \"g\", \"h\", \"i\", 'j', 'k', 'l', 'o', 'm', 'n', 'o', 'p', 'q', 'r', 's', 't', 'u',\r\n",
    "        'v', 'w', 'x', 'y']\r\n",
    "\r\n",
    "x = input(\"Enter the value to search: \")\r\n",
    "print(is_member(list, x))"
   ]
  },
  {
   "cell_type": "markdown",
   "metadata": {},
   "source": [
    "### Question 10\r\n",
    "Define a function overlapping() that takes two lists and returns True if they have at least one member in common, False otherwise. \r\n",
    "You may use your is_member() function, or the in operator, but for the sake of the exercise, you should (also) write it using two nested for-loops."
   ]
  },
  {
   "cell_type": "code",
   "execution_count": null,
   "metadata": {},
   "outputs": [],
   "source": [
    "def overlapping(list1, list2):\r\n",
    "    \r\n",
    "    \r\n",
    "    for i in range(len(list1)):\r\n",
    "\r\n",
    "        for j in range(len(list2)):\r\n",
    "            if(list2[j] == list1[i]):\r\n",
    "                print(\"The overlapping item is: \" + list2[j])\r\n",
    "                return True\r\n",
    "    \r\n",
    "    return False\r\n",
    "\r\n",
    "list1 = ['apple', 'ball', 'overlapping item']\r\n",
    "list2 = ['ant', 'bot', 'overlapping item']\r\n",
    "\r\n",
    "print(overlapping(list1, list2))"
   ]
  },
  {
   "cell_type": "markdown",
   "metadata": {},
   "source": [
    "### Question 11\r\n",
    "Define a function generate_n_chars() that takes an integer n and a character c and returns a string, n characters long, consisting only of c:s. \r\n",
    "For example, generate_n_chars(5,\"x\") should return the string \"xxxxx\". \r\n",
    "(Python is unusual in that you can actually write an expression 5 * \"x\" that will evaluate to \"xxxxx\". For the sake of the exercise you should ignore that the problem can be solved in this manner.)"
   ]
  },
  {
   "cell_type": "code",
   "execution_count": null,
   "metadata": {},
   "outputs": [],
   "source": [
    "def generate_n_chars(n, c):\r\n",
    "    \r\n",
    "    string = ''\r\n",
    "\r\n",
    "    for i in range(n):\r\n",
    "        string = string + c\r\n",
    "    \r\n",
    "    return string\r\n",
    "\r\n",
    "c = input(\"Input the character to repeat: \")[0]\r\n",
    "n = int(input(\"Input the repetition size: \"))\r\n",
    "\r\n",
    "print(generate_n_chars(n, c))\r\n"
   ]
  },
  {
   "cell_type": "markdown",
   "metadata": {},
   "source": [
    "### Question 12\r\n",
    "Define a procedure histogram() that takes a list of integers and prints a histogram to the screen. For example, histogram([4, 9, 7]) should print the following:\r\n",
    "\r\n",
    "    ****\r\n",
    "    *********\r\n",
    "    *******"
   ]
  },
  {
   "cell_type": "code",
   "execution_count": null,
   "metadata": {},
   "outputs": [],
   "source": [
    "def histogram(list):\r\n",
    "    \r\n",
    "    for i in range(len(list)):\r\n",
    "        print(\"*\" * list[i])\r\n",
    "\r\n",
    "list = [3,5,7,9,11,13,15,17]\r\n",
    "\r\n",
    "print(histogram(list))"
   ]
  },
  {
   "cell_type": "markdown",
   "metadata": {},
   "source": [
    "### Question 13\r\n",
    "The function max() from exercise 1) and the function max_of_three() from exercise 2) will only work for two and three numbers, respectively. \r\n",
    "But suppose we have a much larger number of numbers, or suppose we cannot tell in advance how many they are? \r\n",
    "Write a function max_in_list() that takes a list of numbers and returns the largest one.\r\n"
   ]
  },
  {
   "cell_type": "code",
   "execution_count": null,
   "metadata": {},
   "outputs": [],
   "source": [
    "def max_in_list(list):\r\n",
    "    \r\n",
    "    max = 0\r\n",
    "\r\n",
    "    for i in range(len(list)):\r\n",
    "        if(list[i] > max):\r\n",
    "            max = list[i]\r\n",
    "    \r\n",
    "    return max\r\n",
    "\r\n",
    "list = [1,2,3,4,5,6,67,7,8,9,7,5,3,23,4,6]\r\n",
    "\r\n",
    "print(max_in_list(list))"
   ]
  },
  {
   "cell_type": "markdown",
   "metadata": {},
   "source": [
    "### Question 14\r\n",
    "Write a program that maps a list of words into a list of integers representing the lengths of the correponding words."
   ]
  },
  {
   "cell_type": "code",
   "execution_count": null,
   "metadata": {},
   "outputs": [],
   "source": [
    "def length_of_words_in_list(list):\r\n",
    "\r\n",
    "    length_list = []\r\n",
    "\r\n",
    "    for i in range(len(list)):\r\n",
    "        length_list.append(len(list[i]))\r\n",
    "\r\n",
    "    return length_list\r\n",
    "\r\n",
    "\r\n",
    "list_of_words = [\"this\", \"is\", \"a\", \"list\", \"of\", \"words\"]\r\n",
    "list_of_words_length = length_of_words_in_list(list_of_words)\r\n",
    "\r\n",
    "print(list_of_words_length)"
   ]
  },
  {
   "cell_type": "markdown",
   "metadata": {},
   "source": [
    "### Question 15\r\n",
    "Write a function find_longest_word() that takes a list of words and returns the length of the longest one."
   ]
  },
  {
   "cell_type": "code",
   "execution_count": null,
   "metadata": {},
   "outputs": [],
   "source": [
    "def find_longest_word_len(list):\r\n",
    "    \r\n",
    "    longest_length = 0\r\n",
    "\r\n",
    "    for i in range(len(list)):\r\n",
    "        \r\n",
    "        if(len(list[i]) > longest_length):\r\n",
    "            longest_length = len(list[i])\r\n",
    "\r\n",
    "    return longest_length\r\n",
    "\r\n",
    "\r\n",
    "list_of_words = [\"this\", \"is\", \"a\", \"list\", \"of\", \"words\", \"longest\"]\r\n",
    "print(find_longest_word_len(list_of_words))"
   ]
  },
  {
   "cell_type": "markdown",
   "metadata": {},
   "source": [
    "### Question 16\r\n",
    "Write a function filter_long_words() that takes a list of words and an integer n and returns the list of words that are longer than n."
   ]
  },
  {
   "cell_type": "code",
   "execution_count": null,
   "metadata": {},
   "outputs": [],
   "source": [
    "def filter_long_words(list, query):\r\n",
    "\r\n",
    "    filtered_list = []\r\n",
    "    \r\n",
    "    for i in range(len(list)):\r\n",
    "        \r\n",
    "        if(len(list[i]) > query):\r\n",
    "            filtered_list.append(list[i])\r\n",
    "    \r\n",
    "    return filtered_list\r\n",
    "\r\n",
    "list_of_words = [\"this\", \"is\", \"a\", \"list\", \"of\", \"words\", \"and\", \"this\", \"is\", \"the\", \"longest\", \"word\"]\r\n",
    "\r\n",
    "print(filter_long_words(list_of_words, int(input(\"What should be the minimum no of words: \"))))\r\n"
   ]
  },
  {
   "cell_type": "markdown",
   "metadata": {},
   "source": [
    "### Question 17\r\n",
    "Write a version of a palindrome recognizer that also accepts phrase palindromes such as:\r\n",
    "\r\n",
    "- \"Go hang a salami I'm a lasagna hog.\" \r\n",
    "- \"Was it a rat I saw?\"\r\n",
    "- \"Step on no pets\"\r\n",
    "- \"Sit on a potato pan, Otis\"\r\n",
    "- \"Lisa Bonet ate no basil\"\r\n",
    "- \"Satan, oscillate my metallic sonatas\"\r\n",
    "- \"I roamed under it as a tired nude Maori\"\r\n",
    "- \"Rise to vote sir\"\r\n",
    "- or the exclamation \"Dammit, I'm mad!\". \r\n",
    "\r\n",
    "Note that punctuation, capitalization, and spacing are usually ignored.\r\n",
    "\r\n"
   ]
  },
  {
   "cell_type": "code",
   "execution_count": 11,
   "metadata": {},
   "outputs": [
    {
     "name": "stdout",
     "output_type": "stream",
     "text": [
      "True\n"
     ]
    }
   ],
   "source": [
    "# This function will cleanup characters in the sentence that are not alphabets.\r\n",
    "# It will return a string of the cleaned up characters.\r\n",
    "\r\n",
    "def cleanup(list):\r\n",
    "    \r\n",
    "    cleaned_string = ''\r\n",
    "\r\n",
    "    for i in range(len(list)):\r\n",
    "\r\n",
    "        if(list[i] != \"'\" and list[i] != \" \" and list[i] != \".\" and list[i] != \"!\" and list[i] != \"?\" and list[i] != \",\" ):\r\n",
    "            cleaned_string += list[i]\r\n",
    "\r\n",
    "    cleaned_string = cleaned_string.lower()\r\n",
    "    return cleaned_string\r\n",
    "\r\n",
    "\r\n",
    "def is_palindrome(str):\r\n",
    "    \r\n",
    "    # We need to cleanup our string of unneccessary characters to make sure the palindrome check is proper.\r\n",
    "    cleaned_string = cleanup(str)\r\n",
    "\r\n",
    "    j = len(cleaned_string) - 1\r\n",
    "    for i in range(len(cleaned_string)):\r\n",
    "\r\n",
    "        if(cleaned_string[i] != cleaned_string[j]):\r\n",
    "            return False\r\n",
    "        else:\r\n",
    "            return True\r\n",
    "\r\n",
    "        j -= 1\r\n",
    "\r\n",
    "string = input(\"Enter a string to check: \")\r\n",
    "\r\n",
    "print(is_palindrome(string))"
   ]
  },
  {
   "cell_type": "markdown",
   "metadata": {},
   "source": [
    "### Question 18\r\n",
    "A pangram is a sentence that contains all the letters of the English alphabet at least once. \r\n",
    "\r\n",
    "For example: The quick brown fox jumps over the lazy dog. \r\n",
    "\r\n",
    "Your task here is to write a function to check a sentence to see if it is a pangram or not."
   ]
  },
  {
   "cell_type": "code",
   "execution_count": 21,
   "metadata": {},
   "outputs": [
    {
     "name": "stdout",
     "output_type": "stream",
     "text": [
      "True\n"
     ]
    }
   ],
   "source": [
    "def is_pangram(string):\r\n",
    "    \r\n",
    "    # We need to check the string against a list of characters(string) to see if all the letters are present\r\n",
    "    alphabet = \"abcdefghijklmnopqrstuvwxyz\"\r\n",
    "\r\n",
    "    for i in alphabet:\r\n",
    "\r\n",
    "        if i not in string.lower():\r\n",
    "            return False\r\n",
    "        \r\n",
    "    return True\r\n",
    "\r\n",
    "string = 'The quick brown fox jumps over the lazy dog.'\r\n",
    "\r\n",
    "print(is_pangram(string))"
   ]
  },
  {
   "cell_type": "code",
   "execution_count": null,
   "metadata": {},
   "outputs": [],
   "source": []
  }
 ],
 "metadata": {
  "interpreter": {
   "hash": "63fd5069d213b44bf678585dea6b12cceca9941eaf7f819626cde1f2670de90d"
  },
  "kernelspec": {
   "display_name": "Python 3.9.6 64-bit",
   "name": "python3"
  },
  "language_info": {
   "name": "python",
   "version": ""
  }
 },
 "nbformat": 4,
 "nbformat_minor": 5
}